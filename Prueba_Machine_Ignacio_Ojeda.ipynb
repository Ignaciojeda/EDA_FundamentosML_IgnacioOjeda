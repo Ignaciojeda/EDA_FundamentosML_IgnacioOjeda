{
  "nbformat": 4,
  "nbformat_minor": 0,
  "metadata": {
    "colab": {
      "provenance": [],
      "authorship_tag": "ABX9TyMwCu2Helnmwyx3wajjeDP5",
      "include_colab_link": true
    },
    "kernelspec": {
      "name": "python3",
      "display_name": "Python 3"
    },
    "language_info": {
      "name": "python"
    }
  },
  "cells": [
    {
      "cell_type": "markdown",
      "metadata": {
        "id": "view-in-github",
        "colab_type": "text"
      },
      "source": [
        "<a href=\"https://colab.research.google.com/github/Ignaciojeda/EDA_FundamentosML_IgnacioOjeda/blob/main/Prueba_Machine_Ignacio_Ojeda.ipynb\" target=\"_parent\"><img src=\"https://colab.research.google.com/assets/colab-badge.svg\" alt=\"Open In Colab\"/></a>"
      ]
    },
    {
      "cell_type": "code",
      "execution_count": null,
      "metadata": {
        "id": "uns6fRegRREo"
      },
      "outputs": [],
      "source": [
        "from google.colab import files\n",
        "uploaded = files.upload()\n",
        "for fn in uploaded.keys():\n",
        "    name=fn\n",
        "df = pd.read_csv(name, sep=\",\")\n",
        "df.head(10)"
      ]
    },
    {
      "cell_type": "markdown",
      "source": [
        "En este apartado importamos desde nuestros archivos el dataset al cual tambien se le proporcionara una abrevacion en este caso df. Tambien con la funcion head podremos observar los 10 primeros datos que nos entrega el dataset"
      ],
      "metadata": {
        "id": "vdYYchrwR7R2"
      }
    }
  ]
}